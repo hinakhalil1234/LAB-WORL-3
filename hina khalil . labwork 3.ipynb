{
 "cells": [
  {
   "cell_type": "code",
   "execution_count": 15,
   "id": "3d100993",
   "metadata": {},
   "outputs": [],
   "source": [
    "import numpy as np\n",
    "import matplotlib.pyplot as plt"
   ]
  },
  {
   "cell_type": "code",
   "execution_count": 8,
   "id": "57da3285",
   "metadata": {},
   "outputs": [
    {
     "name": "stdout",
     "output_type": "stream",
     "text": [
      "0\n",
      "1\n",
      "2\n",
      "3\n",
      "4\n",
      "5\n",
      "6\n",
      "7\n",
      "8\n",
      "9\n",
      "10\n",
      "11\n",
      "12\n",
      "13\n",
      "14\n"
     ]
    }
   ],
   "source": [
    "a=15\n",
    "if a==15:\n",
    "    for i in range (a): # we use range()to generate a sequence of numbers.\n",
    "       print(i) "
   ]
  },
  {
   "cell_type": "code",
   "execution_count": 9,
   "id": "e74889b1",
   "metadata": {},
   "outputs": [
    {
     "name": "stdout",
     "output_type": "stream",
     "text": [
      "52\n"
     ]
    }
   ],
   "source": [
    "x=5\n",
    "f=lambda x:2*x**2+2 # lambda is used as a way to sequence a funcation defination.\n",
    "print (f(x))"
   ]
  },
  {
   "cell_type": "code",
   "execution_count": 10,
   "id": "acd56971",
   "metadata": {},
   "outputs": [
    {
     "name": "stdout",
     "output_type": "stream",
     "text": [
      "enter x1: 5\n",
      "enter x2 4\n"
     ]
    }
   ],
   "source": [
    "x1=float(input(\"enter x1: \"))\n",
    "x2=float(input(\"enter x2 \"))\n",
    "# when we take real values from user , we use float."
   ]
  },
  {
   "cell_type": "code",
   "execution_count": 11,
   "id": "c1563b33",
   "metadata": {},
   "outputs": [
    {
     "data": {
      "text/plain": [
       "5.0"
      ]
     },
     "execution_count": 11,
     "metadata": {},
     "output_type": "execute_result"
    }
   ],
   "source": [
    "x1"
   ]
  },
  {
   "cell_type": "code",
   "execution_count": 12,
   "id": "4100d147",
   "metadata": {},
   "outputs": [
    {
     "data": {
      "text/plain": [
       "4.0"
      ]
     },
     "execution_count": 12,
     "metadata": {},
     "output_type": "execute_result"
    }
   ],
   "source": [
    "x2"
   ]
  },
  {
   "cell_type": "code",
   "execution_count": 13,
   "id": "340e7337",
   "metadata": {},
   "outputs": [
    {
     "name": "stdout",
     "output_type": "stream",
     "text": [
      "hina\n"
     ]
    }
   ],
   "source": [
    "x=\"hina\" # we always write string in inverted commas\n",
    "print (x)"
   ]
  },
  {
   "cell_type": "code",
   "execution_count": 16,
   "id": "ed02fb56",
   "metadata": {},
   "outputs": [
    {
     "name": "stdout",
     "output_type": "stream",
     "text": [
      "my name is hina\n"
     ]
    }
   ],
   "source": [
    "a=3\n",
    "b=3\n",
    "if b==a:\n",
    "   print(\"my name is hina\")"
   ]
  },
  {
   "cell_type": "code",
   "execution_count": null,
   "id": "fd149d58",
   "metadata": {},
   "outputs": [],
   "source": []
  }
 ],
 "metadata": {
  "kernelspec": {
   "display_name": "Python 3 (ipykernel)",
   "language": "python",
   "name": "python3"
  },
  "language_info": {
   "codemirror_mode": {
    "name": "ipython",
    "version": 3
   },
   "file_extension": ".py",
   "mimetype": "text/x-python",
   "name": "python",
   "nbconvert_exporter": "python",
   "pygments_lexer": "ipython3",
   "version": "3.9.7"
  }
 },
 "nbformat": 4,
 "nbformat_minor": 5
}
